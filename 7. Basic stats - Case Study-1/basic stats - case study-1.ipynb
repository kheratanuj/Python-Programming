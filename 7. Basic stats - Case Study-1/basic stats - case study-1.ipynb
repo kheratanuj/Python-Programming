{
 "cells": [
  {
   "cell_type": "code",
   "execution_count": 1,
   "metadata": {},
   "outputs": [],
   "source": [
    "import numpy as np\n",
    "import pandas as pd\n",
    "import scipy.stats as stats\n",
    "import matplotlib.pyplot as plt\n",
    "%matplotlib inline\n",
    "import math"
   ]
  },
  {
   "cell_type": "code",
   "execution_count": 2,
   "metadata": {},
   "outputs": [
    {
     "data": {
      "text/html": [
       "<div>\n",
       "<style scoped>\n",
       "    .dataframe tbody tr th:only-of-type {\n",
       "        vertical-align: middle;\n",
       "    }\n",
       "\n",
       "    .dataframe tbody tr th {\n",
       "        vertical-align: top;\n",
       "    }\n",
       "\n",
       "    .dataframe thead th {\n",
       "        text-align: right;\n",
       "    }\n",
       "</style>\n",
       "<table border=\"1\" class=\"dataframe\">\n",
       "  <thead>\n",
       "    <tr style=\"text-align: right;\">\n",
       "      <th></th>\n",
       "      <th>patid</th>\n",
       "      <th>age</th>\n",
       "      <th>gender</th>\n",
       "      <th>tg0</th>\n",
       "      <th>tg1</th>\n",
       "      <th>tg2</th>\n",
       "      <th>tg3</th>\n",
       "      <th>tg4</th>\n",
       "      <th>wgt0</th>\n",
       "      <th>wgt1</th>\n",
       "      <th>wgt2</th>\n",
       "      <th>wgt3</th>\n",
       "      <th>wgt4</th>\n",
       "    </tr>\n",
       "  </thead>\n",
       "  <tbody>\n",
       "    <tr>\n",
       "      <th>0</th>\n",
       "      <td>1</td>\n",
       "      <td>45</td>\n",
       "      <td>Male</td>\n",
       "      <td>180</td>\n",
       "      <td>148</td>\n",
       "      <td>106</td>\n",
       "      <td>113</td>\n",
       "      <td>100</td>\n",
       "      <td>198</td>\n",
       "      <td>196</td>\n",
       "      <td>193</td>\n",
       "      <td>188</td>\n",
       "      <td>192</td>\n",
       "    </tr>\n",
       "    <tr>\n",
       "      <th>1</th>\n",
       "      <td>2</td>\n",
       "      <td>56</td>\n",
       "      <td>Male</td>\n",
       "      <td>139</td>\n",
       "      <td>94</td>\n",
       "      <td>119</td>\n",
       "      <td>75</td>\n",
       "      <td>92</td>\n",
       "      <td>237</td>\n",
       "      <td>233</td>\n",
       "      <td>232</td>\n",
       "      <td>228</td>\n",
       "      <td>225</td>\n",
       "    </tr>\n",
       "    <tr>\n",
       "      <th>2</th>\n",
       "      <td>3</td>\n",
       "      <td>50</td>\n",
       "      <td>Male</td>\n",
       "      <td>152</td>\n",
       "      <td>185</td>\n",
       "      <td>86</td>\n",
       "      <td>149</td>\n",
       "      <td>118</td>\n",
       "      <td>233</td>\n",
       "      <td>231</td>\n",
       "      <td>229</td>\n",
       "      <td>228</td>\n",
       "      <td>226</td>\n",
       "    </tr>\n",
       "    <tr>\n",
       "      <th>3</th>\n",
       "      <td>4</td>\n",
       "      <td>46</td>\n",
       "      <td>Female</td>\n",
       "      <td>112</td>\n",
       "      <td>145</td>\n",
       "      <td>136</td>\n",
       "      <td>149</td>\n",
       "      <td>82</td>\n",
       "      <td>179</td>\n",
       "      <td>181</td>\n",
       "      <td>177</td>\n",
       "      <td>174</td>\n",
       "      <td>172</td>\n",
       "    </tr>\n",
       "    <tr>\n",
       "      <th>4</th>\n",
       "      <td>5</td>\n",
       "      <td>64</td>\n",
       "      <td>Male</td>\n",
       "      <td>156</td>\n",
       "      <td>104</td>\n",
       "      <td>157</td>\n",
       "      <td>79</td>\n",
       "      <td>97</td>\n",
       "      <td>219</td>\n",
       "      <td>217</td>\n",
       "      <td>215</td>\n",
       "      <td>213</td>\n",
       "      <td>214</td>\n",
       "    </tr>\n",
       "    <tr>\n",
       "      <th>5</th>\n",
       "      <td>6</td>\n",
       "      <td>49</td>\n",
       "      <td>Female</td>\n",
       "      <td>167</td>\n",
       "      <td>138</td>\n",
       "      <td>88</td>\n",
       "      <td>107</td>\n",
       "      <td>171</td>\n",
       "      <td>169</td>\n",
       "      <td>166</td>\n",
       "      <td>165</td>\n",
       "      <td>162</td>\n",
       "      <td>161</td>\n",
       "    </tr>\n",
       "    <tr>\n",
       "      <th>6</th>\n",
       "      <td>7</td>\n",
       "      <td>63</td>\n",
       "      <td>Male</td>\n",
       "      <td>138</td>\n",
       "      <td>132</td>\n",
       "      <td>146</td>\n",
       "      <td>143</td>\n",
       "      <td>132</td>\n",
       "      <td>222</td>\n",
       "      <td>219</td>\n",
       "      <td>215</td>\n",
       "      <td>215</td>\n",
       "      <td>210</td>\n",
       "    </tr>\n",
       "    <tr>\n",
       "      <th>7</th>\n",
       "      <td>8</td>\n",
       "      <td>63</td>\n",
       "      <td>Female</td>\n",
       "      <td>160</td>\n",
       "      <td>128</td>\n",
       "      <td>150</td>\n",
       "      <td>118</td>\n",
       "      <td>123</td>\n",
       "      <td>167</td>\n",
       "      <td>167</td>\n",
       "      <td>166</td>\n",
       "      <td>162</td>\n",
       "      <td>161</td>\n",
       "    </tr>\n",
       "    <tr>\n",
       "      <th>8</th>\n",
       "      <td>9</td>\n",
       "      <td>52</td>\n",
       "      <td>Male</td>\n",
       "      <td>107</td>\n",
       "      <td>120</td>\n",
       "      <td>129</td>\n",
       "      <td>195</td>\n",
       "      <td>174</td>\n",
       "      <td>199</td>\n",
       "      <td>200</td>\n",
       "      <td>196</td>\n",
       "      <td>196</td>\n",
       "      <td>193</td>\n",
       "    </tr>\n",
       "    <tr>\n",
       "      <th>9</th>\n",
       "      <td>10</td>\n",
       "      <td>45</td>\n",
       "      <td>Male</td>\n",
       "      <td>156</td>\n",
       "      <td>103</td>\n",
       "      <td>126</td>\n",
       "      <td>135</td>\n",
       "      <td>92</td>\n",
       "      <td>233</td>\n",
       "      <td>229</td>\n",
       "      <td>229</td>\n",
       "      <td>229</td>\n",
       "      <td>226</td>\n",
       "    </tr>\n",
       "    <tr>\n",
       "      <th>10</th>\n",
       "      <td>11</td>\n",
       "      <td>61</td>\n",
       "      <td>Female</td>\n",
       "      <td>94</td>\n",
       "      <td>144</td>\n",
       "      <td>114</td>\n",
       "      <td>114</td>\n",
       "      <td>121</td>\n",
       "      <td>179</td>\n",
       "      <td>181</td>\n",
       "      <td>176</td>\n",
       "      <td>173</td>\n",
       "      <td>173</td>\n",
       "    </tr>\n",
       "    <tr>\n",
       "      <th>11</th>\n",
       "      <td>12</td>\n",
       "      <td>49</td>\n",
       "      <td>Female</td>\n",
       "      <td>107</td>\n",
       "      <td>93</td>\n",
       "      <td>156</td>\n",
       "      <td>148</td>\n",
       "      <td>150</td>\n",
       "      <td>158</td>\n",
       "      <td>153</td>\n",
       "      <td>155</td>\n",
       "      <td>155</td>\n",
       "      <td>154</td>\n",
       "    </tr>\n",
       "    <tr>\n",
       "      <th>12</th>\n",
       "      <td>13</td>\n",
       "      <td>61</td>\n",
       "      <td>Female</td>\n",
       "      <td>145</td>\n",
       "      <td>107</td>\n",
       "      <td>129</td>\n",
       "      <td>86</td>\n",
       "      <td>159</td>\n",
       "      <td>157</td>\n",
       "      <td>151</td>\n",
       "      <td>150</td>\n",
       "      <td>145</td>\n",
       "      <td>143</td>\n",
       "    </tr>\n",
       "    <tr>\n",
       "      <th>13</th>\n",
       "      <td>14</td>\n",
       "      <td>59</td>\n",
       "      <td>Male</td>\n",
       "      <td>186</td>\n",
       "      <td>142</td>\n",
       "      <td>128</td>\n",
       "      <td>122</td>\n",
       "      <td>101</td>\n",
       "      <td>216</td>\n",
       "      <td>213</td>\n",
       "      <td>210</td>\n",
       "      <td>210</td>\n",
       "      <td>206</td>\n",
       "    </tr>\n",
       "    <tr>\n",
       "      <th>14</th>\n",
       "      <td>15</td>\n",
       "      <td>52</td>\n",
       "      <td>Male</td>\n",
       "      <td>112</td>\n",
       "      <td>107</td>\n",
       "      <td>103</td>\n",
       "      <td>89</td>\n",
       "      <td>148</td>\n",
       "      <td>257</td>\n",
       "      <td>255</td>\n",
       "      <td>254</td>\n",
       "      <td>252</td>\n",
       "      <td>249</td>\n",
       "    </tr>\n",
       "    <tr>\n",
       "      <th>15</th>\n",
       "      <td>16</td>\n",
       "      <td>60</td>\n",
       "      <td>Female</td>\n",
       "      <td>104</td>\n",
       "      <td>103</td>\n",
       "      <td>117</td>\n",
       "      <td>79</td>\n",
       "      <td>130</td>\n",
       "      <td>151</td>\n",
       "      <td>146</td>\n",
       "      <td>144</td>\n",
       "      <td>144</td>\n",
       "      <td>140</td>\n",
       "    </tr>\n",
       "  </tbody>\n",
       "</table>\n",
       "</div>"
      ],
      "text/plain": [
       "    patid  age  gender  tg0  tg1  tg2  tg3  tg4  wgt0  wgt1  wgt2  wgt3  wgt4\n",
       "0       1   45    Male  180  148  106  113  100   198   196   193   188   192\n",
       "1       2   56    Male  139   94  119   75   92   237   233   232   228   225\n",
       "2       3   50    Male  152  185   86  149  118   233   231   229   228   226\n",
       "3       4   46  Female  112  145  136  149   82   179   181   177   174   172\n",
       "4       5   64    Male  156  104  157   79   97   219   217   215   213   214\n",
       "5       6   49  Female  167  138   88  107  171   169   166   165   162   161\n",
       "6       7   63    Male  138  132  146  143  132   222   219   215   215   210\n",
       "7       8   63  Female  160  128  150  118  123   167   167   166   162   161\n",
       "8       9   52    Male  107  120  129  195  174   199   200   196   196   193\n",
       "9      10   45    Male  156  103  126  135   92   233   229   229   229   226\n",
       "10     11   61  Female   94  144  114  114  121   179   181   176   173   173\n",
       "11     12   49  Female  107   93  156  148  150   158   153   155   155   154\n",
       "12     13   61  Female  145  107  129   86  159   157   151   150   145   143\n",
       "13     14   59    Male  186  142  128  122  101   216   213   210   210   206\n",
       "14     15   52    Male  112  107  103   89  148   257   255   254   252   249\n",
       "15     16   60  Female  104  103  117   79  130   151   146   144   144   140"
      ]
     },
     "execution_count": 2,
     "metadata": {},
     "output_type": "execute_result"
    }
   ],
   "source": [
    "diet=pd.read_csv('dietstudy.csv')\n",
    "diet.head(16)"
   ]
  },
  {
   "cell_type": "markdown",
   "metadata": {},
   "source": [
    "## 1. A physician is evaluating a new diet for her patients with a family history of heart disease. To test the effectiveness of this diet, 16 patients are placed on the diet for 6 months. Their weights and triglyceride levels are measured before and after the study,and the physician wants to know if either set of measurements has changed. (Data set: dietstudy.csv)"
   ]
  },
  {
   "cell_type": "code",
   "execution_count": 3,
   "metadata": {},
   "outputs": [
    {
     "data": {
      "text/plain": [
       "Ttest_relResult(statistic=1.2000008533342437, pvalue=0.24874946576903698)"
      ]
     },
     "execution_count": 3,
     "metadata": {},
     "output_type": "execute_result"
    }
   ],
   "source": [
    "#Null Hypothesis:- The weights and triglyceride levels  measured before and after the diet are same\n",
    "\n",
    "#Paired T-test\n",
    "#test on triglycerides\n",
    "stats.ttest_rel(a=diet.tg0,\n",
    "                b=diet.tg4)"
   ]
  },
  {
   "cell_type": "code",
   "execution_count": 4,
   "metadata": {},
   "outputs": [
    {
     "data": {
      "text/plain": [
       "Ttest_relResult(statistic=11.174521688532522, pvalue=1.137689414996614e-08)"
      ]
     },
     "execution_count": 4,
     "metadata": {},
     "output_type": "execute_result"
    }
   ],
   "source": [
    "# p value > 0.05, we are unable to reject null hypothesis, hence, we can say \n",
    "#triglyceride levels  measured before and after the diet are same\n",
    "\n",
    "#2 sample Paired T-test on weight\n",
    "stats.ttest_rel(a=diet.wgt0,\n",
    "                b=diet.wgt4)\n",
    "# p value < 0.05 and +ve statistic depicts a>b, we are able to reject null hypothesis, hence, we can say \n",
    "#weight levels  measured before the diet were more."
   ]
  },
  {
   "cell_type": "markdown",
   "metadata": {},
   "source": [
    "## 2. An analyst at a department store wants to evaluate a recent credit card promotion. To this end, 500 cardholders were randomly selected. Half received an ad promoting a reduced interest rate on purchases made over the next three months, and half received a standard seasonal ad. Is the promotion effective to increase sales? (Data set: creditpromo.csv)"
   ]
  },
  {
   "cell_type": "code",
   "execution_count": 5,
   "metadata": {},
   "outputs": [
    {
     "data": {
      "text/html": [
       "<div>\n",
       "<style scoped>\n",
       "    .dataframe tbody tr th:only-of-type {\n",
       "        vertical-align: middle;\n",
       "    }\n",
       "\n",
       "    .dataframe tbody tr th {\n",
       "        vertical-align: top;\n",
       "    }\n",
       "\n",
       "    .dataframe thead th {\n",
       "        text-align: right;\n",
       "    }\n",
       "</style>\n",
       "<table border=\"1\" class=\"dataframe\">\n",
       "  <thead>\n",
       "    <tr style=\"text-align: right;\">\n",
       "      <th></th>\n",
       "      <th>id</th>\n",
       "      <th>insert</th>\n",
       "      <th>dollars</th>\n",
       "    </tr>\n",
       "  </thead>\n",
       "  <tbody>\n",
       "    <tr>\n",
       "      <th>0</th>\n",
       "      <td>148</td>\n",
       "      <td>Standard</td>\n",
       "      <td>2232.771979</td>\n",
       "    </tr>\n",
       "    <tr>\n",
       "      <th>1</th>\n",
       "      <td>572</td>\n",
       "      <td>New Promotion</td>\n",
       "      <td>1403.807542</td>\n",
       "    </tr>\n",
       "    <tr>\n",
       "      <th>2</th>\n",
       "      <td>973</td>\n",
       "      <td>Standard</td>\n",
       "      <td>2327.092181</td>\n",
       "    </tr>\n",
       "    <tr>\n",
       "      <th>3</th>\n",
       "      <td>1096</td>\n",
       "      <td>Standard</td>\n",
       "      <td>1280.030541</td>\n",
       "    </tr>\n",
       "    <tr>\n",
       "      <th>4</th>\n",
       "      <td>1541</td>\n",
       "      <td>New Promotion</td>\n",
       "      <td>1513.563200</td>\n",
       "    </tr>\n",
       "  </tbody>\n",
       "</table>\n",
       "</div>"
      ],
      "text/plain": [
       "     id         insert      dollars\n",
       "0   148       Standard  2232.771979\n",
       "1   572  New Promotion  1403.807542\n",
       "2   973       Standard  2327.092181\n",
       "3  1096       Standard  1280.030541\n",
       "4  1541  New Promotion  1513.563200"
      ]
     },
     "execution_count": 5,
     "metadata": {},
     "output_type": "execute_result"
    }
   ],
   "source": [
    "credit=pd.read_csv('creditpromo.csv')\n",
    "credit.head()"
   ]
  },
  {
   "cell_type": "code",
   "execution_count": 6,
   "metadata": {},
   "outputs": [],
   "source": [
    "#Null Hypothesis:- The purchase levels are same for standard and new promotion.\n",
    "\n",
    "standard = credit[credit['insert']=='Standard'].dollars\n",
    "new_promotion = credit[credit['insert']=='New Promotion'].dollars"
   ]
  },
  {
   "cell_type": "code",
   "execution_count": 7,
   "metadata": {},
   "outputs": [
    {
     "data": {
      "text/plain": [
       "Ttest_indResult(statistic=-2.2604227264649963, pvalue=0.024225996894147814)"
      ]
     },
     "execution_count": 7,
     "metadata": {},
     "output_type": "execute_result"
    }
   ],
   "source": [
    "#2 sample independent T-test on weight\n",
    "stats.ttest_ind(a= standard,\n",
    "                b= new_promotion,\n",
    "                equal_var=True)   \n",
    "#p<0.05, we are able to reject null hypothesis and -ve statistic sign depicts b>a, \n",
    "#Hence, we can say promotion was effective in increasing sales"
   ]
  },
  {
   "cell_type": "markdown",
   "metadata": {},
   "source": [
    "## 3. An experiment is conducted to study the hybrid seed production of bottle gourd under open field conditions. The main aim of the investigation is to compare natural pollination and hand pollination. The data are collected on 10 randomly selected plants from each of natural pollination and hand pollination. The data are collected on fruit weight (kg), seed yield/plant (g) and seedling length (cm). (Data set: pollination.csv)a. Is the overall population of Seed yield/plant (g) equals to 200?\n"
   ]
  },
  {
   "cell_type": "code",
   "execution_count": 8,
   "metadata": {},
   "outputs": [
    {
     "data": {
      "text/html": [
       "<div>\n",
       "<style scoped>\n",
       "    .dataframe tbody tr th:only-of-type {\n",
       "        vertical-align: middle;\n",
       "    }\n",
       "\n",
       "    .dataframe tbody tr th {\n",
       "        vertical-align: top;\n",
       "    }\n",
       "\n",
       "    .dataframe thead th {\n",
       "        text-align: right;\n",
       "    }\n",
       "</style>\n",
       "<table border=\"1\" class=\"dataframe\">\n",
       "  <thead>\n",
       "    <tr style=\"text-align: right;\">\n",
       "      <th></th>\n",
       "      <th>Group</th>\n",
       "      <th>Fruit_Wt</th>\n",
       "      <th>Seed_Yield_Plant</th>\n",
       "      <th>Seedling_length</th>\n",
       "    </tr>\n",
       "  </thead>\n",
       "  <tbody>\n",
       "    <tr>\n",
       "      <th>0</th>\n",
       "      <td>Natural</td>\n",
       "      <td>1.85</td>\n",
       "      <td>147.70</td>\n",
       "      <td>16.86</td>\n",
       "    </tr>\n",
       "    <tr>\n",
       "      <th>1</th>\n",
       "      <td>Natural</td>\n",
       "      <td>1.86</td>\n",
       "      <td>136.86</td>\n",
       "      <td>16.77</td>\n",
       "    </tr>\n",
       "    <tr>\n",
       "      <th>2</th>\n",
       "      <td>Natural</td>\n",
       "      <td>1.83</td>\n",
       "      <td>149.97</td>\n",
       "      <td>16.35</td>\n",
       "    </tr>\n",
       "    <tr>\n",
       "      <th>3</th>\n",
       "      <td>Natural</td>\n",
       "      <td>1.89</td>\n",
       "      <td>172.33</td>\n",
       "      <td>18.26</td>\n",
       "    </tr>\n",
       "    <tr>\n",
       "      <th>4</th>\n",
       "      <td>Natural</td>\n",
       "      <td>1.80</td>\n",
       "      <td>144.46</td>\n",
       "      <td>17.90</td>\n",
       "    </tr>\n",
       "    <tr>\n",
       "      <th>5</th>\n",
       "      <td>Natural</td>\n",
       "      <td>1.88</td>\n",
       "      <td>138.30</td>\n",
       "      <td>16.95</td>\n",
       "    </tr>\n",
       "    <tr>\n",
       "      <th>6</th>\n",
       "      <td>Natural</td>\n",
       "      <td>1.89</td>\n",
       "      <td>150.58</td>\n",
       "      <td>18.15</td>\n",
       "    </tr>\n",
       "    <tr>\n",
       "      <th>7</th>\n",
       "      <td>Natural</td>\n",
       "      <td>1.79</td>\n",
       "      <td>140.99</td>\n",
       "      <td>18.86</td>\n",
       "    </tr>\n",
       "    <tr>\n",
       "      <th>8</th>\n",
       "      <td>Natural</td>\n",
       "      <td>1.85</td>\n",
       "      <td>140.57</td>\n",
       "      <td>18.39</td>\n",
       "    </tr>\n",
       "    <tr>\n",
       "      <th>9</th>\n",
       "      <td>Natural</td>\n",
       "      <td>1.84</td>\n",
       "      <td>138.33</td>\n",
       "      <td>18.58</td>\n",
       "    </tr>\n",
       "    <tr>\n",
       "      <th>10</th>\n",
       "      <td>Hand</td>\n",
       "      <td>2.58</td>\n",
       "      <td>224.26</td>\n",
       "      <td>18.18</td>\n",
       "    </tr>\n",
       "    <tr>\n",
       "      <th>11</th>\n",
       "      <td>Hand</td>\n",
       "      <td>2.74</td>\n",
       "      <td>197.50</td>\n",
       "      <td>18.07</td>\n",
       "    </tr>\n",
       "    <tr>\n",
       "      <th>12</th>\n",
       "      <td>Hand</td>\n",
       "      <td>2.58</td>\n",
       "      <td>230.34</td>\n",
       "      <td>19.07</td>\n",
       "    </tr>\n",
       "    <tr>\n",
       "      <th>13</th>\n",
       "      <td>Hand</td>\n",
       "      <td>2.62</td>\n",
       "      <td>217.05</td>\n",
       "      <td>19.00</td>\n",
       "    </tr>\n",
       "    <tr>\n",
       "      <th>14</th>\n",
       "      <td>Hand</td>\n",
       "      <td>2.68</td>\n",
       "      <td>233.84</td>\n",
       "      <td>18.00</td>\n",
       "    </tr>\n",
       "    <tr>\n",
       "      <th>15</th>\n",
       "      <td>Hand</td>\n",
       "      <td>2.56</td>\n",
       "      <td>216.52</td>\n",
       "      <td>18.49</td>\n",
       "    </tr>\n",
       "    <tr>\n",
       "      <th>16</th>\n",
       "      <td>Hand</td>\n",
       "      <td>2.34</td>\n",
       "      <td>211.93</td>\n",
       "      <td>17.45</td>\n",
       "    </tr>\n",
       "    <tr>\n",
       "      <th>17</th>\n",
       "      <td>Hand</td>\n",
       "      <td>2.67</td>\n",
       "      <td>210.37</td>\n",
       "      <td>18.97</td>\n",
       "    </tr>\n",
       "    <tr>\n",
       "      <th>18</th>\n",
       "      <td>Hand</td>\n",
       "      <td>2.45</td>\n",
       "      <td>199.87</td>\n",
       "      <td>19.31</td>\n",
       "    </tr>\n",
       "    <tr>\n",
       "      <th>19</th>\n",
       "      <td>Hand</td>\n",
       "      <td>2.44</td>\n",
       "      <td>214.30</td>\n",
       "      <td>19.36</td>\n",
       "    </tr>\n",
       "  </tbody>\n",
       "</table>\n",
       "</div>"
      ],
      "text/plain": [
       "      Group  Fruit_Wt  Seed_Yield_Plant  Seedling_length\n",
       "0   Natural      1.85            147.70            16.86\n",
       "1   Natural      1.86            136.86            16.77\n",
       "2   Natural      1.83            149.97            16.35\n",
       "3   Natural      1.89            172.33            18.26\n",
       "4   Natural      1.80            144.46            17.90\n",
       "5   Natural      1.88            138.30            16.95\n",
       "6   Natural      1.89            150.58            18.15\n",
       "7   Natural      1.79            140.99            18.86\n",
       "8   Natural      1.85            140.57            18.39\n",
       "9   Natural      1.84            138.33            18.58\n",
       "10     Hand      2.58            224.26            18.18\n",
       "11     Hand      2.74            197.50            18.07\n",
       "12     Hand      2.58            230.34            19.07\n",
       "13     Hand      2.62            217.05            19.00\n",
       "14     Hand      2.68            233.84            18.00\n",
       "15     Hand      2.56            216.52            18.49\n",
       "16     Hand      2.34            211.93            17.45\n",
       "17     Hand      2.67            210.37            18.97\n",
       "18     Hand      2.45            199.87            19.31\n",
       "19     Hand      2.44            214.30            19.36"
      ]
     },
     "execution_count": 8,
     "metadata": {},
     "output_type": "execute_result"
    }
   ],
   "source": [
    "#Null Hypothesis:- The overall population of Seed yield/plant (g) equals to 200\n",
    "\n",
    "pollination=pd.read_csv('pollination.csv')\n",
    "pollination.head(20)"
   ]
  },
  {
   "cell_type": "code",
   "execution_count": 9,
   "metadata": {},
   "outputs": [
    {
     "data": {
      "text/plain": [
       "Ttest_1sampResult(statistic=-2.3009121248548645, pvalue=0.032891040921283025)"
      ]
     },
     "execution_count": 9,
     "metadata": {},
     "output_type": "execute_result"
    }
   ],
   "source": [
    "#One Sample T-Test\n",
    "stats.ttest_1samp(a= pollination.Seed_Yield_Plant,popmean=200)\n",
    "#p-value<0.05, we are able to reject null hypothesis, -ve statistic sign depicts Seed yield/plant is less than 200 \n",
    "#hence, we can say overall population of Seed yield/plant (g) not equals to 200."
   ]
  },
  {
   "cell_type": "markdown",
   "metadata": {},
   "source": [
    "## b. Test whether the natural pollination and hand pollination under open field conditions are equally effective or are significantly different."
   ]
  },
  {
   "cell_type": "code",
   "execution_count": 10,
   "metadata": {},
   "outputs": [],
   "source": [
    "Hand = pollination[pollination.Group=='Hand']\n",
    "Natural = pollination[pollination.Group=='Natural']"
   ]
  },
  {
   "cell_type": "code",
   "execution_count": 11,
   "metadata": {},
   "outputs": [
    {
     "data": {
      "text/plain": [
       "Ttest_indResult(statistic=17.669989614440286, pvalue=8.078362076486221e-13)"
      ]
     },
     "execution_count": 11,
     "metadata": {},
     "output_type": "execute_result"
    }
   ],
   "source": [
    "#Null Hypothesis:- the natural pollination and hand pollination under open field conditions are equally effective\n",
    "\n",
    "#2 sample independent T-test on  fruit weight\n",
    "stats.ttest_ind(a= Hand.Fruit_Wt,\n",
    "                b= Natural.Fruit_Wt,\n",
    "                equal_var=True)"
   ]
  },
  {
   "cell_type": "code",
   "execution_count": 12,
   "metadata": {},
   "outputs": [
    {
     "data": {
      "text/plain": [
       "Ttest_indResult(statistic=13.958260515902547, pvalue=4.271481585484385e-11)"
      ]
     },
     "execution_count": 12,
     "metadata": {},
     "output_type": "execute_result"
    }
   ],
   "source": [
    "#p<0.05, we are able to reject null hypothesis and -ve statistic sign depicts b>a\n",
    "\n",
    "#2 sample independent T-test on seed yield/plant\n",
    "stats.ttest_ind(a= Hand.Seed_Yield_Plant,\n",
    "                b= Natural.Seed_Yield_Plant,\n",
    "                equal_var=True)"
   ]
  },
  {
   "cell_type": "code",
   "execution_count": 13,
   "metadata": {},
   "outputs": [
    {
     "data": {
      "text/plain": [
       "Ttest_indResult(statistic=2.542229999657055, pvalue=0.020428817064110226)"
      ]
     },
     "execution_count": 13,
     "metadata": {},
     "output_type": "execute_result"
    }
   ],
   "source": [
    "#p<0.05, we are able to reject null hypothesis and +ve statistic sign depicts a>b\n",
    "\n",
    "#2 sample independent T-test on seedling lenght\n",
    "stats.ttest_ind(a= Hand.Seedling_length,\n",
    "                b= Natural.Seedling_length,\n",
    "                equal_var=True)\n",
    "\n",
    "#p<0.05, we are able to reject null hypothesis and +ve statistic sign depicts a>b\n",
    "#Hence, all three tests are able to reject null hypothesis, we can say that\n",
    "#the natural pollination and hand pollination under open field conditions are significantly different"
   ]
  },
  {
   "cell_type": "markdown",
   "metadata": {},
   "source": [
    "## 4. An electronics firm is developing a new DVD player in response to customer requests.Using a prototype, the marketing team has collected focus data for different age groups viz.Under 25; 25-34; 35-44; 45-54; 55-64; 65 and above. Do you think that consumers of various ages rated the design differently? (Data set: dvdplayer.csv)."
   ]
  },
  {
   "cell_type": "code",
   "execution_count": 14,
   "metadata": {},
   "outputs": [
    {
     "data": {
      "text/html": [
       "<div>\n",
       "<style scoped>\n",
       "    .dataframe tbody tr th:only-of-type {\n",
       "        vertical-align: middle;\n",
       "    }\n",
       "\n",
       "    .dataframe tbody tr th {\n",
       "        vertical-align: top;\n",
       "    }\n",
       "\n",
       "    .dataframe thead th {\n",
       "        text-align: right;\n",
       "    }\n",
       "</style>\n",
       "<table border=\"1\" class=\"dataframe\">\n",
       "  <thead>\n",
       "    <tr style=\"text-align: right;\">\n",
       "      <th></th>\n",
       "      <th>agegroup</th>\n",
       "      <th>dvdscore</th>\n",
       "    </tr>\n",
       "  </thead>\n",
       "  <tbody>\n",
       "    <tr>\n",
       "      <th>0</th>\n",
       "      <td>65 and over</td>\n",
       "      <td>38.454803</td>\n",
       "    </tr>\n",
       "    <tr>\n",
       "      <th>1</th>\n",
       "      <td>55-64</td>\n",
       "      <td>17.669677</td>\n",
       "    </tr>\n",
       "    <tr>\n",
       "      <th>2</th>\n",
       "      <td>65 and over</td>\n",
       "      <td>31.704307</td>\n",
       "    </tr>\n",
       "    <tr>\n",
       "      <th>3</th>\n",
       "      <td>65 and over</td>\n",
       "      <td>25.924460</td>\n",
       "    </tr>\n",
       "    <tr>\n",
       "      <th>4</th>\n",
       "      <td>Under 25</td>\n",
       "      <td>30.450007</td>\n",
       "    </tr>\n",
       "  </tbody>\n",
       "</table>\n",
       "</div>"
      ],
      "text/plain": [
       "      agegroup   dvdscore\n",
       "0  65 and over  38.454803\n",
       "1        55-64  17.669677\n",
       "2  65 and over  31.704307\n",
       "3  65 and over  25.924460\n",
       "4     Under 25  30.450007"
      ]
     },
     "execution_count": 14,
     "metadata": {},
     "output_type": "execute_result"
    }
   ],
   "source": [
    "dvd=pd.read_csv('dvdplayer.csv')\n",
    "dvd.head()"
   ]
  },
  {
   "cell_type": "code",
   "execution_count": 15,
   "metadata": {},
   "outputs": [],
   "source": [
    "#Null Hypothesis:- consumers of various ages rated the design similarly\n",
    "\n",
    "s1 = dvd.dvdscore[dvd.agegroup=='Under 25']\n",
    "s2 = dvd.dvdscore[dvd.agegroup=='25-34']\n",
    "s3 = dvd.dvdscore[dvd.agegroup=='35-44']\n",
    "s4 = dvd.dvdscore[dvd.agegroup=='45-54']\n",
    "s5 = dvd.dvdscore[dvd.agegroup=='65 and over']"
   ]
  },
  {
   "cell_type": "code",
   "execution_count": 16,
   "metadata": {},
   "outputs": [
    {
     "data": {
      "text/plain": [
       "F_onewayResult(statistic=8.052067513385818, pvalue=3.22532865708216e-05)"
      ]
     },
     "execution_count": 16,
     "metadata": {},
     "output_type": "execute_result"
    }
   ],
   "source": [
    "#ANOVA test\n",
    "\n",
    "stats.f_oneway(s1, s2, s3,s4,s5)"
   ]
  },
  {
   "cell_type": "code",
   "execution_count": 17,
   "metadata": {},
   "outputs": [],
   "source": [
    "#p<0.05, we are able to reject null hypothesis.\n",
    "#Hence, we can say consumers of various ages rated the design differently."
   ]
  },
  {
   "cell_type": "markdown",
   "metadata": {},
   "source": [
    "## 5. A survey was conducted among 2800 customers on several demographic characteristics. Working status, sex, age, age-group, race, happiness, no. of child, marital status, educational qualifications, income group etc. had been captured for that purpose. (Data set: sample_survey.csv).a. Is there any relationship in between labour force status with marital status?\n"
   ]
  },
  {
   "cell_type": "code",
   "execution_count": 18,
   "metadata": {},
   "outputs": [
    {
     "name": "stdout",
     "output_type": "stream",
     "text": [
      "<class 'pandas.core.frame.DataFrame'>\n",
      "RangeIndex: 2832 entries, 0 to 2831\n",
      "Data columns (total 46 columns):\n",
      "id          2832 non-null int64\n",
      "wrkstat     2831 non-null object\n",
      "marital     2831 non-null object\n",
      "childs      2825 non-null float64\n",
      "age         2828 non-null float64\n",
      "educ        2820 non-null float64\n",
      "paeduc      2041 non-null float64\n",
      "maeduc      2399 non-null float64\n",
      "speduc      1311 non-null float64\n",
      "degree      2822 non-null object\n",
      "sex         2832 non-null object\n",
      "race        2832 non-null object\n",
      "born        2819 non-null object\n",
      "parborn     2812 non-null object\n",
      "granborn    2630 non-null float64\n",
      "income      2503 non-null object\n",
      "rincome     1849 non-null object\n",
      "polviews    2691 non-null object\n",
      "cappun      2599 non-null object\n",
      "postlife    2066 non-null object\n",
      "happy       2806 non-null object\n",
      "hapmar      1337 non-null object\n",
      "owngun      1869 non-null object\n",
      "news        1870 non-null object\n",
      "tvhours     2337 non-null float64\n",
      "howpaid     1347 non-null object\n",
      "ethnic      2238 non-null object\n",
      "eth1        2557 non-null object\n",
      "eth2        1102 non-null object\n",
      "eth3        444 non-null object\n",
      "confinan    1864 non-null object\n",
      "conbus      1821 non-null object\n",
      "coneduc     1881 non-null object\n",
      "conpress    1862 non-null object\n",
      "conmedic    1875 non-null object\n",
      "contv       1876 non-null object\n",
      "agecat      2828 non-null object\n",
      "childcat    2825 non-null object\n",
      "news1       2832 non-null object\n",
      "news2       2832 non-null object\n",
      "news3       2832 non-null object\n",
      "news4       2832 non-null object\n",
      "news5       2832 non-null object\n",
      "car1        2832 non-null object\n",
      "car2        2266 non-null object\n",
      "car3        1672 non-null object\n",
      "dtypes: float64(8), int64(1), object(37)\n",
      "memory usage: 1017.9+ KB\n"
     ]
    }
   ],
   "source": [
    "survey=pd.read_csv('sample_survey.csv')\n",
    "survey.info()"
   ]
  },
  {
   "cell_type": "code",
   "execution_count": 20,
   "metadata": {},
   "outputs": [
    {
     "name": "stdout",
     "output_type": "stream",
     "text": [
      "marital                  Divorced  Married  Never married  Separated  Widowed  \\\n",
      "wrkstat                                                                         \n",
      "Keeping house                  25      200             35         13       55   \n",
      "Other                          12       16             14          4        8   \n",
      "Retired                        53      168             17          6      150   \n",
      "School                          7        9             60          2        1   \n",
      "Temporarily not working         9       23             11          1        2   \n",
      "Unemployed, laid off           10       13             32          0        3   \n",
      "Working full time             295      778            392         58       44   \n",
      "Working part-time              35      138            102          9       20   \n",
      "All                           446     1345            663         93      283   \n",
      "\n",
      "marital                   All  \n",
      "wrkstat                        \n",
      "Keeping house             328  \n",
      "Other                      54  \n",
      "Retired                   394  \n",
      "School                     79  \n",
      "Temporarily not working    46  \n",
      "Unemployed, laid off       58  \n",
      "Working full time        1567  \n",
      "Working part-time         304  \n",
      "All                      2830  \n"
     ]
    },
    {
     "data": {
      "text/plain": [
       "(729.2421426572284,\n",
       " 1.820339965538765e-127,\n",
       " 40,\n",
       " array([[5.16918728e+01, 1.55886926e+02, 7.68424028e+01, 1.07787986e+01,\n",
       "         3.28000000e+01, 3.28000000e+02],\n",
       "        [8.51024735e+00, 2.56643110e+01, 1.26508834e+01, 1.77455830e+00,\n",
       "         5.40000000e+00, 5.40000000e+01],\n",
       "        [6.20932862e+01, 1.87254417e+02, 9.23045936e+01, 1.29477032e+01,\n",
       "         3.94000000e+01, 3.94000000e+02],\n",
       "        [1.24501767e+01, 3.75459364e+01, 1.85077739e+01, 2.59611307e+00,\n",
       "         7.90000000e+00, 7.90000000e+01],\n",
       "        [7.24946996e+00, 2.18621908e+01, 1.07766784e+01, 1.51166078e+00,\n",
       "         4.60000000e+00, 4.60000000e+01],\n",
       "        [9.14063604e+00, 2.75653710e+01, 1.35879859e+01, 1.90600707e+00,\n",
       "         5.80000000e+00, 5.80000000e+01],\n",
       "        [2.46954770e+02, 7.44740283e+02, 3.67109894e+02, 5.14950530e+01,\n",
       "         1.56700000e+02, 1.56700000e+03],\n",
       "        [4.79095406e+01, 1.44480565e+02, 7.12197880e+01, 9.99010601e+00,\n",
       "         3.04000000e+01, 3.04000000e+02],\n",
       "        [4.46000000e+02, 1.34500000e+03, 6.63000000e+02, 9.30000000e+01,\n",
       "         2.83000000e+02, 2.83000000e+03]]))"
      ]
     },
     "execution_count": 20,
     "metadata": {},
     "output_type": "execute_result"
    }
   ],
   "source": [
    "#Null Hypothesis:- there is no  relationship in between labour force status with marital status\n",
    "\n",
    "#chi-square test\n",
    "t1=pd.crosstab(survey.wrkstat, survey.marital, margins = True)\n",
    "print(t1)\n",
    "stats.chi2_contingency(observed= t1)"
   ]
  },
  {
   "cell_type": "code",
   "execution_count": null,
   "metadata": {},
   "outputs": [],
   "source": [
    "# As p<0.05, we are able to reject the null hypothesis\n",
    "#Hence, we can say there is relationship between labour force status with marital status."
   ]
  },
  {
   "cell_type": "markdown",
   "metadata": {},
   "source": [
    "## b. Do you think educational qualification is somehow controlling the marital status?\n"
   ]
  },
  {
   "cell_type": "code",
   "execution_count": 21,
   "metadata": {},
   "outputs": [
    {
     "name": "stdout",
     "output_type": "stream",
     "text": [
      "marital         Divorced  Married  Never married  Separated  Widowed   All\n",
      "degree                                                                    \n",
      "Bachelor              58      251            129         12       28   478\n",
      "Graduate              29      123             41          3        9   205\n",
      "High school          241      686            367         58      148  1500\n",
      "Junior college        45      108             46          3        6   208\n",
      "LT High school        70      174             77         17       92   430\n",
      "All                  443     1342            660         93      283  2821\n"
     ]
    },
    {
     "data": {
      "text/plain": [
       "(122.68449020508541,\n",
       " 7.424404099753273e-15,\n",
       " 25,\n",
       " array([[  75.06345268,  227.39312301,  111.83268345,   15.75824176,\n",
       "           47.95249911,  478.        ],\n",
       "        [  32.19248493,   97.52215526,   47.9617157 ,    6.75824176,\n",
       "           20.56540234,  205.        ],\n",
       "        [ 235.55476781,  713.57674583,  350.9393832 ,   49.45054945,\n",
       "          150.4785537 , 1500.        ],\n",
       "        [  32.66359447,   98.94930876,   48.66359447,    6.85714286,\n",
       "           20.86635945,  208.        ],\n",
       "        [  67.52570011,  204.55866714,  100.60262318,   14.17582418,\n",
       "           43.1371854 ,  430.        ],\n",
       "        [ 443.        , 1342.        ,  660.        ,   93.        ,\n",
       "          283.        , 2821.        ]]))"
      ]
     },
     "execution_count": 21,
     "metadata": {},
     "output_type": "execute_result"
    }
   ],
   "source": [
    "#Null Hypothesis:- there is no  relationship in between educational qualification with marital status\n",
    "\n",
    "#chi-square test\n",
    "t2=pd.crosstab(survey.degree, survey.marital, margins = True)\n",
    "print(t2)\n",
    "stats.chi2_contingency(observed= t2)"
   ]
  },
  {
   "cell_type": "code",
   "execution_count": null,
   "metadata": {},
   "outputs": [],
   "source": [
    "# As p<0.05, we are able to reject the null hypothesis\n",
    "#Hence, we can say there is relationship between educational qualification with marital status."
   ]
  },
  {
   "cell_type": "markdown",
   "metadata": {},
   "source": [
    "## c. Is happiness is driven by earnings or marital status?"
   ]
  },
  {
   "cell_type": "code",
   "execution_count": 22,
   "metadata": {},
   "outputs": [
    {
     "name": "stdout",
     "output_type": "stream",
     "text": [
      "marital        Divorced  Married  Never married  Separated  Widowed   All\n",
      "happy                                                                    \n",
      "Not too happy        72       71            108         30       59   340\n",
      "Pretty happy        278      684            426         49      137  1574\n",
      "Very happy           93      582            120         13       83   891\n",
      "All                 443     1337            654         92      279  2805\n"
     ]
    },
    {
     "data": {
      "text/plain": [
       "(260.68943894182826,\n",
       " 7.762777322980048e-47,\n",
       " 15,\n",
       " array([[  53.6969697 ,  162.06060606,   79.27272727,   11.15151515,\n",
       "           33.81818182,  340.        ],\n",
       "        [ 248.58538324,  750.24527629,  366.98609626,   51.62495544,\n",
       "          156.55828877, 1574.        ],\n",
       "        [ 140.71764706,  424.69411765,  207.74117647,   29.22352941,\n",
       "           88.62352941,  891.        ],\n",
       "        [ 443.        , 1337.        ,  654.        ,   92.        ,\n",
       "          279.        , 2805.        ]]))"
      ]
     },
     "execution_count": 22,
     "metadata": {},
     "output_type": "execute_result"
    }
   ],
   "source": [
    "#Null Hypothesis:- there is no  relationship in between happiness and marital status\n",
    "\n",
    "#chi-square test\n",
    "t3=pd.crosstab(survey.happy, survey.marital, margins = True)\n",
    "print(t3)\n",
    "stats.chi2_contingency(observed= t3)\n"
   ]
  },
  {
   "cell_type": "code",
   "execution_count": 23,
   "metadata": {},
   "outputs": [],
   "source": [
    "# As p<0.05, we are able to reject the null hypothesis\n",
    "#Hence,we can say happiness is driven by marital status."
   ]
  },
  {
   "cell_type": "code",
   "execution_count": 24,
   "metadata": {},
   "outputs": [
    {
     "name": "stdout",
     "output_type": "stream",
     "text": [
      "income         $1000 TO 2999  $10000 - 14999  $15000 - 19999  $20000 - 24999  \\\n",
      "happy                                                                          \n",
      "Not too happy              7              39              33              40   \n",
      "Pretty happy              20             107             119             155   \n",
      "Very happy                 5              44              26              50   \n",
      "All                       32             190             178             245   \n",
      "\n",
      "income         $25000 or more  $3000 TO 3999  $4000 TO 4999  $5000 TO 5999  \\\n",
      "happy                                                                        \n",
      "Not too happy             113              9              9              6   \n",
      "Pretty happy              888             11             13             18   \n",
      "Very happy                571              4             10             11   \n",
      "All                      1572             24             32             35   \n",
      "\n",
      "income         $6000 TO 6999  $7000 TO 7999  $8000 TO 9999  LT $1000   All  \n",
      "happy                                                                       \n",
      "Not too happy             14             12              9        11   302  \n",
      "Pretty happy              13             21             30        13  1408  \n",
      "Very happy                 6             14             19        11   771  \n",
      "All                       33             47             58        35  2481  \n"
     ]
    },
    {
     "data": {
      "text/plain": [
       "(178.95053061216427,\n",
       " 7.234749067043371e-21,\n",
       " 36,\n",
       " array([[   3.89520355,   23.12777106,   21.66706973,   29.82265216,\n",
       "          191.35187424,    2.92140266,    3.89520355,    4.26037888,\n",
       "            4.01692866,    5.72108021,    7.06005643,    4.26037888,\n",
       "          302.        ],\n",
       "        [  18.16041919,  107.82748892,  101.01733172,  139.04070939,\n",
       "          892.1305925 ,   13.62031439,   18.16041919,   19.86295848,\n",
       "           18.72793229,   26.67311568,   32.91575977,   19.86295848,\n",
       "         1408.        ],\n",
       "        [   9.94437727,   59.04474002,   55.31559855,   76.13663845,\n",
       "          488.51753325,    7.45828295,    9.94437727,   10.87666264,\n",
       "           10.25513906,   14.60580411,   18.0241838 ,   10.87666264,\n",
       "          771.        ],\n",
       "        [  32.        ,  190.        ,  178.        ,  245.        ,\n",
       "         1572.        ,   24.        ,   32.        ,   35.        ,\n",
       "           33.        ,   47.        ,   58.        ,   35.        ,\n",
       "         2481.        ]]))"
      ]
     },
     "execution_count": 24,
     "metadata": {},
     "output_type": "execute_result"
    }
   ],
   "source": [
    "#Null Hypothesis:- there is no  relationship in between happiness and earnings\n",
    "\n",
    "#chi-square test\n",
    "t3a=pd.crosstab(survey.happy, survey.income, margins = True)\n",
    "print(t3a)\n",
    "stats.chi2_contingency(observed= t3a)"
   ]
  },
  {
   "cell_type": "code",
   "execution_count": null,
   "metadata": {},
   "outputs": [],
   "source": [
    "# As p<0.05, we are able to reject the null hypothesis\n",
    "#Hence,we can say happiness is driven by earnings."
   ]
  }
 ],
 "metadata": {
  "kernelspec": {
   "display_name": "Python 3",
   "language": "python",
   "name": "python3"
  },
  "language_info": {
   "codemirror_mode": {
    "name": "ipython",
    "version": 3
   },
   "file_extension": ".py",
   "mimetype": "text/x-python",
   "name": "python",
   "nbconvert_exporter": "python",
   "pygments_lexer": "ipython3",
   "version": "3.7.4"
  }
 },
 "nbformat": 4,
 "nbformat_minor": 2
}
